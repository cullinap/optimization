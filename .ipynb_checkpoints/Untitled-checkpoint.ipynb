{
 "cells": [
  {
   "cell_type": "markdown",
   "id": "ac8f3aa2-90b2-4b20-b0b4-d9f69fb2d3a5",
   "metadata": {},
   "source": [
    "import numpy as np"
   ]
  },
  {
   "cell_type": "markdown",
   "id": "3e0e0509-01ea-4973-b767-17f791f64a52",
   "metadata": {},
   "source": [
    "##### Question 3)"
   ]
  },
  {
   "cell_type": "code",
   "execution_count": 60,
   "id": "1de8e67f-cbb6-412a-bad5-92f3a5ed5866",
   "metadata": {},
   "outputs": [],
   "source": [
    "# set the size and generate a random symmetric matrix\n",
    "# a matrix by its transpose is PSD\n",
    "\n",
    "def generate_psd_m(n):\n",
    "    A = np.random.rand(n,n)\n",
    "    return np.dot(A, A.transpose())"
   ]
  },
  {
   "cell_type": "code",
   "execution_count": 97,
   "id": "c5f72d4f-d4b5-40bb-b101-e6ae243db0a0",
   "metadata": {},
   "outputs": [],
   "source": [
    "def sylvestors_criteria(n, matrix):     \n",
    "    return(\n",
    "        all(\n",
    "            True if x > 0 else False\n",
    "                for x in \n",
    "                    [np.linalg.det(matrix[0:i, 0:i]) \n",
    "                        for i in range(1, n+1)]\n",
    "        )\n",
    "    )"
   ]
  },
  {
   "cell_type": "code",
   "execution_count": 98,
   "id": "91be9734-9c07-4a76-bf3d-487df936b47e",
   "metadata": {},
   "outputs": [
    {
     "data": {
      "text/plain": [
       "array([[1.28377578, 1.22243866, 0.89144696],\n",
       "       [1.22243866, 1.17529964, 0.91409889],\n",
       "       [0.89144696, 0.91409889, 1.08285309]])"
      ]
     },
     "execution_count": 98,
     "metadata": {},
     "output_type": "execute_result"
    }
   ],
   "source": [
    "# generate the matrix\n",
    "m = generate_psd_m(3)\n",
    "m"
   ]
  },
  {
   "cell_type": "code",
   "execution_count": 99,
   "id": "d05003f2-a9df-4af0-93d9-6177a125956c",
   "metadata": {},
   "outputs": [
    {
     "data": {
      "text/plain": [
       "True"
      ]
     },
     "execution_count": 99,
     "metadata": {},
     "output_type": "execute_result"
    }
   ],
   "source": [
    "# check with sylvestors criterion\n",
    "# True if PSD\n",
    "sylvestors_criteria(3, m)"
   ]
  },
  {
   "cell_type": "code",
   "execution_count": 100,
   "id": "ff83873e-044c-436c-b255-e38f6bc958e1",
   "metadata": {},
   "outputs": [
    {
     "data": {
      "text/plain": [
       "matrix([[-1,  2],\n",
       "        [ 3,  4]])"
      ]
     },
     "execution_count": 100,
     "metadata": {},
     "output_type": "execute_result"
    }
   ],
   "source": [
    "# confirm false if criterion not met\n",
    "# not PSD because top left is -1\n",
    "L = np.matrix([[-1, 2], [3, 4]]); L"
   ]
  },
  {
   "cell_type": "code",
   "execution_count": 101,
   "id": "5a940b1b-bdd2-42e4-8256-9404627e8cd2",
   "metadata": {},
   "outputs": [
    {
     "data": {
      "text/plain": [
       "False"
      ]
     },
     "execution_count": 101,
     "metadata": {},
     "output_type": "execute_result"
    }
   ],
   "source": [
    "sylvestors_criteria(3, L)"
   ]
  },
  {
   "cell_type": "code",
   "execution_count": null,
   "id": "663e282e-e178-44a9-a16d-3855a65c3fa7",
   "metadata": {},
   "outputs": [],
   "source": []
  }
 ],
 "metadata": {
  "kernelspec": {
   "display_name": "Python 3 (ipykernel)",
   "language": "python",
   "name": "python3"
  },
  "language_info": {
   "codemirror_mode": {
    "name": "ipython",
    "version": 3
   },
   "file_extension": ".py",
   "mimetype": "text/x-python",
   "name": "python",
   "nbconvert_exporter": "python",
   "pygments_lexer": "ipython3",
   "version": "3.9.12"
  }
 },
 "nbformat": 4,
 "nbformat_minor": 5
}
