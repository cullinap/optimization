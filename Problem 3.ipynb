{
 "cells": [
  {
   "cell_type": "code",
   "execution_count": 1,
   "id": "e119c605",
   "metadata": {},
   "outputs": [],
   "source": [
    "import numpy as np"
   ]
  },
  {
   "cell_type": "code",
   "execution_count": 17,
   "id": "ec1d397c",
   "metadata": {},
   "outputs": [],
   "source": [
    "def f(x, delta=0.01):\n",
    "    return (x[1] - x[0]**2)**2 + delta*(1 - x[0])**2\n",
    "\n",
    "def grad_f(x, delta=0.01):\n",
    "    return np.array([-2*x[0]*(x[1]-x[0]**2) - 2*delta*(1-x[0]), 2*(x[1]-x[0]**2)])\n",
    "\n",
    "def armijo_step(x, delta=0.01, alpha=0.5, beta=0.5, c=1, max_iter=50):\n",
    "    t = 1\n",
    "    for i in range(max_iter):\n",
    "        if f(x - t*grad_f(x, delta)) <= f(x) + alpha*t*grad_f(x, delta).dot(grad_f(x, delta)):\n",
    "            return t\n",
    "        else:\n",
    "            t = beta*t\n",
    "    raise ValueError(\"Armijo rule failed to find a suitable step size.\")\n",
    "\n",
    "def steepest_descent_armijo(x0, delta=0.01, alpha=0.5, beta=0.5, c=1, max_iter=1000, tol=1e-5):\n",
    "    x = x0\n",
    "    for k in range(max_iter):\n",
    "        grad = grad_f(x, delta)\n",
    "        if np.linalg.norm(grad) <= tol:\n",
    "            break\n",
    "        tk = armijo_step(x, delta, alpha, beta, c)\n",
    "        x -= tk*grad\n",
    "    return {\"x\": x, \"f\": f(x, delta), \"iter\": k}\n"
   ]
  },
  {
   "cell_type": "code",
   "execution_count": 18,
   "id": "ae9159ad",
   "metadata": {},
   "outputs": [
    {
     "name": "stdout",
     "output_type": "stream",
     "text": [
      "{'x': array([0.67870122, 0.53520223]), 'f': 0.006592549470344644, 'iter': 999}\n"
     ]
    }
   ],
   "source": [
    "result1 = steepest_descent_armijo(np.array([-0.8, 0.8]))\n",
    "print(result1)"
   ]
  },
  {
   "cell_type": "code",
   "execution_count": 9,
   "id": "b576922a",
   "metadata": {},
   "outputs": [
    {
     "name": "stdout",
     "output_type": "stream",
     "text": [
      "{'x': array([0.67478451, 0.5394591 ]), 'f': 0.00813466172727401, 'iter': 999}\n"
     ]
    }
   ],
   "source": [
    "result2 = steepest_descent_armijo(np.array([0, 0]))\n",
    "print(result2)"
   ]
  },
  {
   "cell_type": "code",
   "execution_count": 10,
   "id": "43e61e81",
   "metadata": {},
   "outputs": [
    {
     "name": "stdout",
     "output_type": "stream",
     "text": [
      "{'x': array([-1.6114607,  2.5598055]), 'f': 0.06956627753525726, 'iter': 999}\n"
     ]
    }
   ],
   "source": [
    "result3 = steepest_descent_armijo(np.array([1.5, 1]))\n",
    "print(result3)"
   ]
  },
  {
   "cell_type": "code",
   "execution_count": 14,
   "id": "3c230a54",
   "metadata": {},
   "outputs": [
    {
     "name": "stderr",
     "output_type": "stream",
     "text": [
      "/var/folders/t6/33f7q3bx3xs8xgmhs2zpyyhc0000gn/T/ipykernel_55538/2588860380.py:2: RuntimeWarning: overflow encountered in double_scalars\n",
      "  return (x[1] - x[0]**2)**2 + delta*(1 - x[0])**2\n",
      "/var/folders/t6/33f7q3bx3xs8xgmhs2zpyyhc0000gn/T/ipykernel_55538/2554472804.py:13: RuntimeWarning: invalid value encountered in true_divide\n",
      "  tk = np.linalg.norm(grad)**2 / grad.dot(np.array([[2*x[0]**2-2*x[1]+2*delta*x[0]-2],\n",
      "/var/folders/t6/33f7q3bx3xs8xgmhs2zpyyhc0000gn/T/ipykernel_55538/2588860380.py:5: RuntimeWarning: overflow encountered in double_scalars\n",
      "  return np.array([-2*x[0]*(x[1]-x[0]**2) - 2*delta*(1-x[0]), 2*(x[1]-x[0]**2)])\n",
      "/var/folders/t6/33f7q3bx3xs8xgmhs2zpyyhc0000gn/T/ipykernel_55538/2588860380.py:2: RuntimeWarning: invalid value encountered in double_scalars\n",
      "  return (x[1] - x[0]**2)**2 + delta*(1 - x[0])**2\n",
      "/var/folders/t6/33f7q3bx3xs8xgmhs2zpyyhc0000gn/T/ipykernel_55538/2588860380.py:5: RuntimeWarning: invalid value encountered in double_scalars\n",
      "  return np.array([-2*x[0]*(x[1]-x[0]**2) - 2*delta*(1-x[0]), 2*(x[1]-x[0]**2)])\n"
     ]
    },
    {
     "ename": "ValueError",
     "evalue": "x and y must have same first dimension, but have shapes (1000,) and (1001,)",
     "output_type": "error",
     "traceback": [
      "\u001b[0;31m---------------------------------------------------------------------------\u001b[0m",
      "\u001b[0;31mValueError\u001b[0m                                Traceback (most recent call last)",
      "Input \u001b[0;32mIn [14]\u001b[0m, in \u001b[0;36m<cell line: 39>\u001b[0;34m()\u001b[0m\n\u001b[1;32m     36\u001b[0m result3_decreasing \u001b[38;5;241m=\u001b[39m steepest_descent(np\u001b[38;5;241m.\u001b[39marray([\u001b[38;5;241m1.5\u001b[39m, \u001b[38;5;241m1\u001b[39m]), \u001b[38;5;124m\"\u001b[39m\u001b[38;5;124mdecreasing\u001b[39m\u001b[38;5;124m\"\u001b[39m)\n\u001b[1;32m     38\u001b[0m \u001b[38;5;66;03m# Plot error vs. iteration number\u001b[39;00m\n\u001b[0;32m---> 39\u001b[0m \u001b[43mplt\u001b[49m\u001b[38;5;241;43m.\u001b[39;49m\u001b[43mplot\u001b[49m\u001b[43m(\u001b[49m\u001b[38;5;28;43mrange\u001b[39;49m\u001b[43m(\u001b[49m\u001b[43mresult1_armijo\u001b[49m\u001b[43m[\u001b[49m\u001b[38;5;124;43m\"\u001b[39;49m\u001b[38;5;124;43miter\u001b[39;49m\u001b[38;5;124;43m\"\u001b[39;49m\u001b[43m]\u001b[49m\u001b[38;5;241;43m+\u001b[39;49m\u001b[38;5;241;43m1\u001b[39;49m\u001b[43m)\u001b[49m\u001b[43m,\u001b[49m\u001b[43m \u001b[49m\u001b[43mnp\u001b[49m\u001b[38;5;241;43m.\u001b[39;49m\u001b[43mabs\u001b[49m\u001b[43m(\u001b[49m\u001b[43mresult1_armijo\u001b[49m\u001b[43m[\u001b[49m\u001b[38;5;124;43m\"\u001b[39;49m\u001b[38;5;124;43mf_vals\u001b[39;49m\u001b[38;5;124;43m\"\u001b[39;49m\u001b[43m]\u001b[49m\u001b[43m \u001b[49m\u001b[38;5;241;43m-\u001b[39;49m\u001b[43m \u001b[49m\u001b[43mf\u001b[49m\u001b[43m(\u001b[49m\u001b[43mnp\u001b[49m\u001b[38;5;241;43m.\u001b[39;49m\u001b[43marray\u001b[49m\u001b[43m(\u001b[49m\u001b[43m[\u001b[49m\u001b[38;5;241;43m1\u001b[39;49m\u001b[43m,\u001b[49m\u001b[43m \u001b[49m\u001b[38;5;241;43m1\u001b[39;49m\u001b[43m]\u001b[49m\u001b[43m)\u001b[49m\u001b[43m,\u001b[49m\u001b[43m \u001b[49m\u001b[38;5;241;43m0.01\u001b[39;49m\u001b[43m)\u001b[49m\u001b[43m)\u001b[49m\u001b[43m,\u001b[49m\u001b[43m \u001b[49m\u001b[43mlabel\u001b[49m\u001b[38;5;241;43m=\u001b[39;49m\u001b[38;5;124;43m\"\u001b[39;49m\u001b[38;5;124;43mArmijo\u001b[39;49m\u001b[38;5;124;43m\"\u001b[39;49m\u001b[43m)\u001b[49m\n\u001b[1;32m     40\u001b[0m plt\u001b[38;5;241m.\u001b[39mplot(\u001b[38;5;28mrange\u001b[39m(result1_exact[\u001b[38;5;124m\"\u001b[39m\u001b[38;5;124miter\u001b[39m\u001b[38;5;124m\"\u001b[39m]\u001b[38;5;241m+\u001b[39m\u001b[38;5;241m1\u001b[39m), np\u001b[38;5;241m.\u001b[39mabs(result1_exact[\u001b[38;5;124m\"\u001b[39m\u001b[38;5;124mf_vals\u001b[39m\u001b[38;5;124m\"\u001b[39m] \u001b[38;5;241m-\u001b[39m f(np\u001b[38;5;241m.\u001b[39marray([\u001b[38;5;241m1\u001b[39m, \u001b[38;5;241m1\u001b[39m]), \u001b[38;5;241m0.01\u001b[39m)), label\u001b[38;5;241m=\u001b[39m\u001b[38;5;124m\"\u001b[39m\u001b[38;5;124mExact\u001b[39m\u001b[38;5;124m\"\u001b[39m)\n\u001b[1;32m     41\u001b[0m plt\u001b[38;5;241m.\u001b[39mplot(\u001b[38;5;28mrange\u001b[39m(result1_decreasing[\u001b[38;5;124m\"\u001b[39m\u001b[38;5;124miter\u001b[39m\u001b[38;5;124m\"\u001b[39m]\u001b[38;5;241m+\u001b[39m\u001b[38;5;241m1\u001b[39m), np\u001b[38;5;241m.\u001b[39mabs(result1_decreasing[\u001b[38;5;124m\"\u001b[39m\u001b[38;5;124mf_vals\u001b[39m\u001b[38;5;124m\"\u001b[39m] \u001b[38;5;241m-\u001b[39m f(np\u001b[38;5;241m.\u001b[39marray([\u001b[38;5;241m1\u001b[39m, \u001b[38;5;241m1\u001b[39m]), \u001b[38;5;241m0.01\u001b[39m)), label\u001b[38;5;241m=\u001b[39m\u001b[38;5;124m\"\u001b[39m\u001b[38;5;124mDecreasing\u001b[39m\u001b[38;5;124m\"\u001b[39m)\n",
      "File \u001b[0;32m~/opt/anaconda3/lib/python3.9/site-packages/matplotlib/pyplot.py:2757\u001b[0m, in \u001b[0;36mplot\u001b[0;34m(scalex, scaley, data, *args, **kwargs)\u001b[0m\n\u001b[1;32m   2755\u001b[0m \u001b[38;5;129m@_copy_docstring_and_deprecators\u001b[39m(Axes\u001b[38;5;241m.\u001b[39mplot)\n\u001b[1;32m   2756\u001b[0m \u001b[38;5;28;01mdef\u001b[39;00m \u001b[38;5;21mplot\u001b[39m(\u001b[38;5;241m*\u001b[39margs, scalex\u001b[38;5;241m=\u001b[39m\u001b[38;5;28;01mTrue\u001b[39;00m, scaley\u001b[38;5;241m=\u001b[39m\u001b[38;5;28;01mTrue\u001b[39;00m, data\u001b[38;5;241m=\u001b[39m\u001b[38;5;28;01mNone\u001b[39;00m, \u001b[38;5;241m*\u001b[39m\u001b[38;5;241m*\u001b[39mkwargs):\n\u001b[0;32m-> 2757\u001b[0m     \u001b[38;5;28;01mreturn\u001b[39;00m \u001b[43mgca\u001b[49m\u001b[43m(\u001b[49m\u001b[43m)\u001b[49m\u001b[38;5;241;43m.\u001b[39;49m\u001b[43mplot\u001b[49m\u001b[43m(\u001b[49m\n\u001b[1;32m   2758\u001b[0m \u001b[43m        \u001b[49m\u001b[38;5;241;43m*\u001b[39;49m\u001b[43margs\u001b[49m\u001b[43m,\u001b[49m\u001b[43m \u001b[49m\u001b[43mscalex\u001b[49m\u001b[38;5;241;43m=\u001b[39;49m\u001b[43mscalex\u001b[49m\u001b[43m,\u001b[49m\u001b[43m \u001b[49m\u001b[43mscaley\u001b[49m\u001b[38;5;241;43m=\u001b[39;49m\u001b[43mscaley\u001b[49m\u001b[43m,\u001b[49m\n\u001b[1;32m   2759\u001b[0m \u001b[43m        \u001b[49m\u001b[38;5;241;43m*\u001b[39;49m\u001b[38;5;241;43m*\u001b[39;49m\u001b[43m(\u001b[49m\u001b[43m{\u001b[49m\u001b[38;5;124;43m\"\u001b[39;49m\u001b[38;5;124;43mdata\u001b[39;49m\u001b[38;5;124;43m\"\u001b[39;49m\u001b[43m:\u001b[49m\u001b[43m \u001b[49m\u001b[43mdata\u001b[49m\u001b[43m}\u001b[49m\u001b[43m \u001b[49m\u001b[38;5;28;43;01mif\u001b[39;49;00m\u001b[43m \u001b[49m\u001b[43mdata\u001b[49m\u001b[43m \u001b[49m\u001b[38;5;129;43;01mis\u001b[39;49;00m\u001b[43m \u001b[49m\u001b[38;5;129;43;01mnot\u001b[39;49;00m\u001b[43m \u001b[49m\u001b[38;5;28;43;01mNone\u001b[39;49;00m\u001b[43m \u001b[49m\u001b[38;5;28;43;01melse\u001b[39;49;00m\u001b[43m \u001b[49m\u001b[43m{\u001b[49m\u001b[43m}\u001b[49m\u001b[43m)\u001b[49m\u001b[43m,\u001b[49m\u001b[43m \u001b[49m\u001b[38;5;241;43m*\u001b[39;49m\u001b[38;5;241;43m*\u001b[39;49m\u001b[43mkwargs\u001b[49m\u001b[43m)\u001b[49m\n",
      "File \u001b[0;32m~/opt/anaconda3/lib/python3.9/site-packages/matplotlib/axes/_axes.py:1632\u001b[0m, in \u001b[0;36mAxes.plot\u001b[0;34m(self, scalex, scaley, data, *args, **kwargs)\u001b[0m\n\u001b[1;32m   1390\u001b[0m \u001b[38;5;124;03m\"\"\"\u001b[39;00m\n\u001b[1;32m   1391\u001b[0m \u001b[38;5;124;03mPlot y versus x as lines and/or markers.\u001b[39;00m\n\u001b[1;32m   1392\u001b[0m \n\u001b[0;32m   (...)\u001b[0m\n\u001b[1;32m   1629\u001b[0m \u001b[38;5;124;03m(``'green'``) or hex strings (``'#008000'``).\u001b[39;00m\n\u001b[1;32m   1630\u001b[0m \u001b[38;5;124;03m\"\"\"\u001b[39;00m\n\u001b[1;32m   1631\u001b[0m kwargs \u001b[38;5;241m=\u001b[39m cbook\u001b[38;5;241m.\u001b[39mnormalize_kwargs(kwargs, mlines\u001b[38;5;241m.\u001b[39mLine2D)\n\u001b[0;32m-> 1632\u001b[0m lines \u001b[38;5;241m=\u001b[39m [\u001b[38;5;241m*\u001b[39m\u001b[38;5;28mself\u001b[39m\u001b[38;5;241m.\u001b[39m_get_lines(\u001b[38;5;241m*\u001b[39margs, data\u001b[38;5;241m=\u001b[39mdata, \u001b[38;5;241m*\u001b[39m\u001b[38;5;241m*\u001b[39mkwargs)]\n\u001b[1;32m   1633\u001b[0m \u001b[38;5;28;01mfor\u001b[39;00m line \u001b[38;5;129;01min\u001b[39;00m lines:\n\u001b[1;32m   1634\u001b[0m     \u001b[38;5;28mself\u001b[39m\u001b[38;5;241m.\u001b[39madd_line(line)\n",
      "File \u001b[0;32m~/opt/anaconda3/lib/python3.9/site-packages/matplotlib/axes/_base.py:312\u001b[0m, in \u001b[0;36m_process_plot_var_args.__call__\u001b[0;34m(self, data, *args, **kwargs)\u001b[0m\n\u001b[1;32m    310\u001b[0m     this \u001b[38;5;241m+\u001b[39m\u001b[38;5;241m=\u001b[39m args[\u001b[38;5;241m0\u001b[39m],\n\u001b[1;32m    311\u001b[0m     args \u001b[38;5;241m=\u001b[39m args[\u001b[38;5;241m1\u001b[39m:]\n\u001b[0;32m--> 312\u001b[0m \u001b[38;5;28;01myield from\u001b[39;00m \u001b[38;5;28;43mself\u001b[39;49m\u001b[38;5;241;43m.\u001b[39;49m\u001b[43m_plot_args\u001b[49m\u001b[43m(\u001b[49m\u001b[43mthis\u001b[49m\u001b[43m,\u001b[49m\u001b[43m \u001b[49m\u001b[43mkwargs\u001b[49m\u001b[43m)\u001b[49m\n",
      "File \u001b[0;32m~/opt/anaconda3/lib/python3.9/site-packages/matplotlib/axes/_base.py:498\u001b[0m, in \u001b[0;36m_process_plot_var_args._plot_args\u001b[0;34m(self, tup, kwargs, return_kwargs)\u001b[0m\n\u001b[1;32m    495\u001b[0m     \u001b[38;5;28mself\u001b[39m\u001b[38;5;241m.\u001b[39maxes\u001b[38;5;241m.\u001b[39myaxis\u001b[38;5;241m.\u001b[39mupdate_units(y)\n\u001b[1;32m    497\u001b[0m \u001b[38;5;28;01mif\u001b[39;00m x\u001b[38;5;241m.\u001b[39mshape[\u001b[38;5;241m0\u001b[39m] \u001b[38;5;241m!=\u001b[39m y\u001b[38;5;241m.\u001b[39mshape[\u001b[38;5;241m0\u001b[39m]:\n\u001b[0;32m--> 498\u001b[0m     \u001b[38;5;28;01mraise\u001b[39;00m \u001b[38;5;167;01mValueError\u001b[39;00m(\u001b[38;5;124mf\u001b[39m\u001b[38;5;124m\"\u001b[39m\u001b[38;5;124mx and y must have same first dimension, but \u001b[39m\u001b[38;5;124m\"\u001b[39m\n\u001b[1;32m    499\u001b[0m                      \u001b[38;5;124mf\u001b[39m\u001b[38;5;124m\"\u001b[39m\u001b[38;5;124mhave shapes \u001b[39m\u001b[38;5;132;01m{\u001b[39;00mx\u001b[38;5;241m.\u001b[39mshape\u001b[38;5;132;01m}\u001b[39;00m\u001b[38;5;124m and \u001b[39m\u001b[38;5;132;01m{\u001b[39;00my\u001b[38;5;241m.\u001b[39mshape\u001b[38;5;132;01m}\u001b[39;00m\u001b[38;5;124m\"\u001b[39m)\n\u001b[1;32m    500\u001b[0m \u001b[38;5;28;01mif\u001b[39;00m x\u001b[38;5;241m.\u001b[39mndim \u001b[38;5;241m>\u001b[39m \u001b[38;5;241m2\u001b[39m \u001b[38;5;129;01mor\u001b[39;00m y\u001b[38;5;241m.\u001b[39mndim \u001b[38;5;241m>\u001b[39m \u001b[38;5;241m2\u001b[39m:\n\u001b[1;32m    501\u001b[0m     \u001b[38;5;28;01mraise\u001b[39;00m \u001b[38;5;167;01mValueError\u001b[39;00m(\u001b[38;5;124mf\u001b[39m\u001b[38;5;124m\"\u001b[39m\u001b[38;5;124mx and y can be no greater than 2D, but have \u001b[39m\u001b[38;5;124m\"\u001b[39m\n\u001b[1;32m    502\u001b[0m                      \u001b[38;5;124mf\u001b[39m\u001b[38;5;124m\"\u001b[39m\u001b[38;5;124mshapes \u001b[39m\u001b[38;5;132;01m{\u001b[39;00mx\u001b[38;5;241m.\u001b[39mshape\u001b[38;5;132;01m}\u001b[39;00m\u001b[38;5;124m and \u001b[39m\u001b[38;5;132;01m{\u001b[39;00my\u001b[38;5;241m.\u001b[39mshape\u001b[38;5;132;01m}\u001b[39;00m\u001b[38;5;124m\"\u001b[39m)\n",
      "\u001b[0;31mValueError\u001b[0m: x and y must have same first dimension, but have shapes (1000,) and (1001,)"
     ]
    },
    {
     "data": {
      "image/png": "[encoded data removed]",
      "text/plain": [
       "<Figure size 432x288 with 1 Axes>"
      ]
     },
     "metadata": {
      "needs_background": "light"
     },
     "output_type": "display_data"
    }
   ],
   "source": [
    "import matplotlib.pyplot as plt\n",
    "\n",
    "def steepest_descent(x0, step_size_method=\"armijo\", delta=0.01, alpha=0.5, beta=0.5, c=1, max_iter=1000, tol=1e-5):\n",
    "    x = x0\n",
    "    f_vals = [f(x, delta)]\n",
    "    for k in range(max_iter):\n",
    "        grad = grad_f(x, delta)\n",
    "        if np.linalg.norm(grad) <= tol:\n",
    "            break\n",
    "        if step_size_method == \"armijo\":\n",
    "            tk = armijo_step(x, delta, alpha, beta, c)\n",
    "        elif step_size_method == \"exact\":\n",
    "            tk = np.linalg.norm(grad)**2 / grad.dot(np.array([[2*x[0]**2-2*x[1]+2*delta*x[0]-2],\n",
    "                                                              [2*x[1]-2*x[0]**2]]))\n",
    "        elif step_size_method == \"decreasing\":\n",
    "            tk = c / np.sqrt(k+1)\n",
    "        else:\n",
    "            raise ValueError(\"Invalid step size method.\")\n",
    "        x = x - tk*grad\n",
    "        f_vals.append(f(x, delta))\n",
    "    return {\"x\": x, \"f_vals\": f_vals, \"iter\": k}\n",
    "\n",
    "# Starting point x0 = (-0.8, 0.8)\n",
    "result1_armijo = steepest_descent(np.array([-0.8, 0.8]), \"armijo\")\n",
    "result1_exact = steepest_descent(np.array([-0.8, 0.8]), \"exact\")\n",
    "result1_decreasing = steepest_descent(np.array([-0.8, 0.8]), \"decreasing\")\n",
    "\n",
    "# Starting point x0 = (0, 0)\n",
    "result2_armijo = steepest_descent(np.array([0, 0]), \"armijo\")\n",
    "result2_exact = steepest_descent(np.array([0, 0]), \"exact\")\n",
    "result2_decreasing = steepest_descent(np.array([0, 0]), \"decreasing\")\n",
    "\n",
    "# Starting point x0 = (1.5, 1)\n",
    "result3_armijo = steepest_descent(np.array([1.5, 1]), \"armijo\")\n",
    "result3_exact = steepest_descent(np.array([1.5, 1]), \"exact\")\n",
    "result3_decreasing = steepest_descent(np.array([1.5, 1]), \"decreasing\")\n",
    "\n",
    "# Plot error vs. iteration number\n",
    "plt.plot(range(result1_armijo[\"iter\"]+1), np.abs(result1_armijo[\"f_vals\"] - f(np.array([1, 1]), 0.01)), label=\"Armijo\")\n",
    "plt.plot(range(result1_exact[\"iter\"]+1), np.abs(result1_exact[\"f_vals\"] - f(np.array([1, 1]), 0.01)), label=\"Exact\")\n",
    "plt.plot(range(result1_decreasing[\"iter\"]+1), np.abs(result1_decreasing[\"f_vals\"] - f(np.array([1, 1]), 0.01)), label=\"Decreasing\")\n",
    "plt.legend()\n",
    "plt.xlabel(\"Iteration number\")\n",
    "plt.ylabel(\"|f(xk) - f(x*)|\")\n",
    "plt.title(\"Starting point (-0.8, 0.8)\")\n",
    "plt.show()\n",
    "\n",
    "plt.plot(range(result2_armijo[\"iter\"]+1), np.abs(result2_armijo[\"f_vals\"] - f(np.array([1, 1]), 0.01)), label=\"Armijo\")\n",
    "#plt.plot(range(result2_exact[\"iter\"]+1), np.abs\n"
   ]
  },
  {
   "cell_type": "code",
   "execution_count": 15,
   "id": "ae4df5f8",
   "metadata": {},
   "outputs": [
    {
     "name": "stderr",
     "output_type": "stream",
     "text": [
      "/var/folders/t6/33f7q3bx3xs8xgmhs2zpyyhc0000gn/T/ipykernel_55538/2588860380.py:2: RuntimeWarning: overflow encountered in double_scalars\n",
      "  return (x[1] - x[0]**2)**2 + delta*(1 - x[0])**2\n",
      "/var/folders/t6/33f7q3bx3xs8xgmhs2zpyyhc0000gn/T/ipykernel_55538/677944628.py:13: RuntimeWarning: invalid value encountered in true_divide\n",
      "  tk = np.linalg.norm(grad)**2 / grad.dot(np.array([[2*x[0]**2-2*x[1]+2*delta*x[0]-2],\n",
      "/var/folders/t6/33f7q3bx3xs8xgmhs2zpyyhc0000gn/T/ipykernel_55538/2588860380.py:5: RuntimeWarning: overflow encountered in double_scalars\n",
      "  return np.array([-2*x[0]*(x[1]-x[0]**2) - 2*delta*(1-x[0]), 2*(x[1]-x[0]**2)])\n",
      "/var/folders/t6/33f7q3bx3xs8xgmhs2zpyyhc0000gn/T/ipykernel_55538/2588860380.py:2: RuntimeWarning: invalid value encountered in double_scalars\n",
      "  return (x[1] - x[0]**2)**2 + delta*(1 - x[0])**2\n",
      "/var/folders/t6/33f7q3bx3xs8xgmhs2zpyyhc0000gn/T/ipykernel_55538/2588860380.py:5: RuntimeWarning: invalid value encountered in double_scalars\n",
      "  return np.array([-2*x[0]*(x[1]-x[0]**2) - 2*delta*(1-x[0]), 2*(x[1]-x[0]**2)])\n"
     ]
    },
    {
     "data": {
      "text/plain": [
       "Text(0.5, 0, 'Iteration number')"
      ]
     },
     "execution_count": 15,
     "metadata": {},
     "output_type": "execute_result"
    },
    {
     "data": {
      "image/png": "[encoded data removed]",
      "text/plain": [
       "<Figure size 432x288 with 1 Axes>"
      ]
     },
     "metadata": {
      "needs_background": "light"
     },
     "output_type": "display_data"
    }
   ],
   "source": [
    "import matplotlib.pyplot as plt\n",
    "\n",
    "def steepest_descent(x0, step_size_method=\"armijo\", delta=0.01, alpha=0.5, beta=0.5, c=1, max_iter=1000, tol=1e-5):\n",
    "    x = x0\n",
    "    f_vals = [f(x, delta)]\n",
    "    for k in range(max_iter):\n",
    "        grad = grad_f(x, delta)\n",
    "        if np.linalg.norm(grad) <= tol:\n",
    "            break\n",
    "        if step_size_method == \"armijo\":\n",
    "            tk = armijo_step(x, delta, alpha, beta, c)\n",
    "        elif step_size_method == \"exact\":\n",
    "            tk = np.linalg.norm(grad)**2 / grad.dot(np.array([[2*x[0]**2-2*x[1]+2*delta*x[0]-2],\n",
    "                                                              [2*x[1]-2*x[0]**2]]))\n",
    "        elif step_size_method == \"decreasing\":\n",
    "            tk = c / np.sqrt(k+1)\n",
    "        else:\n",
    "            raise ValueError(\"Invalid step size method.\")\n",
    "        x = x - tk*grad\n",
    "        f_vals.append(f(x, delta))\n",
    "    return {\"x\": x, \"f_vals\": f_vals, \"iter\": k}\n",
    "\n",
    "# Starting point x0 = (-0.8, 0.8)\n",
    "result1_armijo = steepest_descent(np.array([-0.8, 0.8]), \"armijo\")\n",
    "result1_exact = steepest_descent(np.array([-0.8, 0.8]), \"exact\")\n",
    "result1_decreasing = steepest_descent(np.array([-0.8, 0.8]), \"decreasing\")\n",
    "\n",
    "# Starting point x0 = (0, 0)\n",
    "result2_armijo = steepest_descent(np.array([0, 0]), \"armijo\")\n",
    "result2_exact = steepest_descent(np.array([0, 0]), \"exact\")\n",
    "result2_decreasing = steepest_descent(np.array([0, 0]), \"decreasing\")\n",
    "\n",
    "# Starting point x0 = (1.5, 1)\n",
    "result3_armijo = steepest_descent(np.array([1.5, 1]), \"armijo\")\n",
    "result3_exact = steepest_descent(np.array([1.5, 1]), \"exact\")\n",
    "result3_decreasing = steepest_descent(np.array([1.5, 1]), \"decreasing\")\n",
    "\n",
    "# Plot error vs. iteration number\n",
    "plt.plot(range(1, result1_armijo[\"iter\"]+2), np.abs(result1_armijo[\"f_vals\"][1:] - f(np.array([1, 1]), 0.01)), label=\"Armijo\")\n",
    "plt.plot(range(1, result1_exact[\"iter\"]+2), np.abs(result1_exact[\"f_vals\"][1:] - f(np.array([1, 1]), 0.01)), label=\"Exact\")\n",
    "plt.plot(range(1, result1_decreasing[\"iter\"]+2), np.abs(result1_decreasing[\"f_vals\"][1:] - f(np.array([1, 1]), 0.01)), label=\"Decreasing\")\n",
    "plt.legend()\n",
    "plt.xlabel(\"Iteration number\")\n",
    "#plt.ylabel(\"|f(xk) -\n"
   ]
  },
  {
   "cell_type": "code",
   "execution_count": null,
   "id": "3d4878fd",
   "metadata": {},
   "outputs": [],
   "source": []
  }
 ],
 "metadata": {
  "kernelspec": {
   "display_name": "Python 3 (ipykernel)",
   "language": "python",
   "name": "python3"
  },
  "language_info": {
   "codemirror_mode": {
    "name": "ipython",
    "version": 3
   },
   "file_extension": ".py",
   "mimetype": "text/x-python",
   "name": "python",
   "nbconvert_exporter": "python",
   "pygments_lexer": "ipython3",
   "version": "3.9.12"
  }
 },
 "nbformat": 4,
 "nbformat_minor": 5
}
